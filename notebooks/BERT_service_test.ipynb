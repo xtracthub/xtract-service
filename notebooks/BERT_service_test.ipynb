{
 "cells": [
  {
   "cell_type": "code",
   "execution_count": 2,
   "metadata": {},
   "outputs": [],
   "source": [
    "from __future__ import print_function\n",
    "\n",
    "# Standard Py Imports\n",
    "import os\n",
    "import json\n",
    "import pickle\n",
    "import os.path\n",
    "import requests\n",
    "\n",
    "# Google Imports\n",
    "from googleapiclient.discovery import build\n",
    "from google_auth_oauthlib.flow import InstalledAppFlow\n",
    "from google.auth.transport.requests import Request"
   ]
  },
  {
   "cell_type": "code",
   "execution_count": 3,
   "metadata": {},
   "outputs": [],
   "source": [
    "# First, set the following elements as environment variables ony our machine\n",
    "# ** DISCLAIMER **: if you push these to GitHub, I will be sad.\n",
    "# ** FOR MACOSX: After you source, .bash_profile, might need full system restart to discover env vars. \n",
    "project_id = os.environ[\"goog_project_id\"]\n",
    "client_id = os.environ[\"goog_client_id\"]\n",
    "client_secret = os.environ[\"goog_client_secret\"]"
   ]
  },
  {
   "cell_type": "code",
   "execution_count": 4,
   "metadata": {},
   "outputs": [],
   "source": [
    "r_url = \"http://127.0.0.1:5000/process_bert\""
   ]
  },
  {
   "cell_type": "code",
   "execution_count": 53,
   "metadata": {},
   "outputs": [
    {
     "name": "stdout",
     "output_type": "stream",
     "text": [
      "{'web': {'auth_uri': 'https://accounts.google.com/o/oauth2/auth', 'token_uri': 'https://oauth2.googleapis.com/token', 'auth_provider_x509_cert_url': 'https://www.googleapis.com/oauth2/v1/certs', 'redirect_uris': ['http://localhost', 'http://localhost/potato', 'http://localhost:8080/Callback'], 'javascript_origins': ['http://localhost:8080']}}\n"
     ]
    }
   ],
   "source": [
    "# Add the secret stuff to our credentials document...\n",
    "with open(\"config.json\", \"r\") as f:\n",
    "    creds = json.load(f)\n",
    "print(creds)\n",
    "creds['web']['client_id'] = client_id\n",
    "creds['web']['client_secret'] = client_secret\n",
    "creds['web']['project_id'] = project_id\n",
    "\n",
    "# And write it.\n",
    "with open(\"credentials.json\", \"w\") as f: \n",
    "    json.dump(creds, f)"
   ]
  },
  {
   "cell_type": "code",
   "execution_count": 54,
   "metadata": {},
   "outputs": [
    {
     "name": "stdout",
     "output_type": "stream",
     "text": [
      "Please visit this URL to authorize this application: https://accounts.google.com/o/oauth2/auth?response_type=code&client_id=364500245041-r1eebsermd1qp1qo68a3qp09hhpc5dfi.apps.googleusercontent.com&redirect_uri=http%3A%2F%2Flocalhost%3A57355%2F&scope=https%3A%2F%2Fwww.googleapis.com%2Fauth%2Fdrive.metadata.readonly+https%3A%2F%2Fwww.googleapis.com%2Fauth%2Fdrive.readonly&state=U8sqbdtW7T0YZZlbNsojguaBqbOj6r&access_type=offline\n"
     ]
    }
   ],
   "source": [
    "SCOPES = ['https://www.googleapis.com/auth/drive.metadata.readonly', 'https://www.googleapis.com/auth/drive.readonly']\n",
    "\n",
    "# Stolen from Google Quickstart docs\n",
    "# https://developers.google.com/drive/api/v3/quickstart/python\n",
    "def do_login_flow():\n",
    "    creds = None\n",
    "    # The file token.pickle stores the user's access and refresh tokens, and is\n",
    "    # created automatically when the authorization flow completes for the first\n",
    "    # time.\n",
    "    if os.path.exists('token.pickle'):\n",
    "        with open('token.pickle', 'rb') as token:\n",
    "            creds = pickle.load(token)\n",
    "\n",
    "    # If there are no (valid) credentials available, let the user log in.\n",
    "    if not creds or not creds.valid:\n",
    "        if creds and creds.expired and creds.refresh_token:\n",
    "            creds.refresh(Request())\n",
    "        else:\n",
    "            flow = InstalledAppFlow.from_client_secrets_file(\n",
    "                'credentials.json', SCOPES)\n",
    "            creds = flow.run_local_server(port=0)\n",
    "        # Save the credentials for the next run\n",
    "        with open('token.pickle', 'wb') as token:\n",
    "            pickle.dump(creds, token)\n",
    "\n",
    "    return creds, None  # Returning None because Tyler can't figure out how he wants to structure this yet. \n",
    "\n",
    "# THIS should force-open a Google Auth window in your local browser. If not, you can manually copy-paste it. \n",
    "auth_creds = do_login_flow()\n",
    "\n",
    "# Now delete the file so you don't accidentally `git add` it. \n",
    "os.remove(\"credentials.json\")"
   ]
  },
  {
   "cell_type": "code",
   "execution_count": 55,
   "metadata": {},
   "outputs": [
    {
     "name": "stdout",
     "output_type": "stream",
     "text": [
      "b'\\x80\\x03}q\\x00X\\x03\\x00\\x00\\x00w2vq\\x01}q\\x02(X\\x04\\x00\\x00\\x00pathq\\x03X1\\x00\\x00\\x001nuPQE15_5inIe6exuqaZ_Qd7DjBEJRBsIXOYKjURSRY..txtq\\x04X\\x05\\x00\\x00\\x00modelq\\x05h\\x01X\\x05\\x00\\x00\\x00errorq\\x06\\x89X\\x0c\\x00\\x00\\x00error_reasonq\\x07X\\x00\\x00\\x00\\x00q\\x08X\\x03\\x00\\x00\\x00repq\\tcnumpy.core.multiarray\\n_reconstruct\\nq\\ncnumpy\\nndarray\\nq\\x0bK\\x00\\x85q\\x0cC\\x01bq\\r\\x87q\\x0eRq\\x0f(K\\x01M,\\x01\\x85q\\x10cnumpy\\ndtype\\nq\\x11X\\x02\\x00\\x00\\x00f4q\\x12K\\x00K\\x01\\x87q\\x13Rq\\x14(K\\x03X\\x01\\x00\\x00\\x00<q\\x15NNNJ\\xff\\xff\\xff\\xffJ\\xff\\xff\\xff\\xffK\\x00tq\\x16b\\x89B\\xb0\\x04\\x00\\x00\\xa8\\xbf\\x05<[\\x83B<\\xe5\\x06?\\xbb\\xedj\\x08=M\\x8c\\xf7\\xbc\\xcf\\x9dr\\xbb\\x93\\xb4\\\\<\\xc8S\\xbb\\xbcw\\xc9\\xb5<\\xa1\\xc8\\xae<\\xb8\\xee\\xc0\\xbc\\x84\\xd9\\xac\\xbc\\xe4\\xfbN\\xbc\\xe1\\xee\\x8e<\\xe3\\xe5\\x1d\\xbd\\x96\\xe0\\xa0<7\\xach<sN\\x1f=\\x8e\\x89!\\xbc\\xaf\\xcd%\\xbd3\\x9c\\xcd\\xbc\\x04\\x9e\\x94;\\xea\\xb1`\\xbc\\x9c\\xb9*<4@\\xad\\xbb\\xc0f\\x9e\\xbc\\xf1\\x16\\xf6\\xbc\\\\\\xc0\\xf9<\\x86\\xa9\\x92<\\xe8<\\xf2\\xbbZj\\xea\\xbc\\xff\\xe4\\x1c\\xbcP\\xed\\x1b\\xbc\\x8c\\x12\\xce\\xbc\\x8a\\xec\\x8c\\xbc\\xa3\\xce$\\xbcR\\xe1^;\\xfcY\\x81<oi\\x83<\\x16\\x91\\x8b<\\xaf\\x1b\\xff<\\xc1n\\x18\\xbb\\xdc\\x85/=MUK<\\x93\\xe7x\\xbb\\xe4T\\xf0\\xbc\\xa8\\xb43\\xbce(\\'\\xbc\\xc3\\xa3\\xe7\\xbb\\x9d\\xd8\\xbd;\\xc3\\x9f\\x89\\xbc\\xed\\xb8\\x05:\\xed\\xbb#:\\xec\\xc2.\\xbc\\xecl\\xa7\\xbbSV\\xf7;\\xa9EQ\\xbc\\xfe#\\x02\\xbd\\xeb\\xb5\\x86<@Z\\x8c\\xbc\\x0e\\x01\\x9f\\xbb@\\xfe\\xa2:\\xcc6*\\xbd\\xc8%\\x9f\\xbcc\\xe5\\n\\xbc\\x11d\\xab\\xbc\\xa5\\xd2\\x91\\xbc\\xa9\\x88\\xb3<\\x95n\\x96;\\x06J\\xc0<\\xd3<1<\\xa5H\\xef\\xbb\\xb5\\xc5\\x1a=\\xae&\\x93\\xbc\\x96\\x0e\\x12\\xbd\\xcc{\\x8c\\xbc\\xe3\\xba\\'=g\\xf0\\xa2;\\xe9\\xddh<@:_<o\\x8aP;\\x9b\\xc5u\\xbc\\xb8\\xd6;<F\\xaa\\xf9\\xbb\\x06\\xf7\\x1e=-\\xb9\\x7f;\\xf88\\xec\\xbc\\x85$\\t=\\x13~\\xc7;\\xa5l\\xa8<t\\xd7N<\\x89~5\\xbb\\xfaF\\x05\\xbda\\xf8\\xb5\\xbc(\\xd0[<\\xf8V\\x1b\\xbc\\x171\\xb3;I\\x97\\xf3;4\\x11\\x85<W\\x1d1<,\\x00\\xb2;\\x1b\\x08\\xb5\\xbcM`\\xe0\\xb9\\xe6O\\xa8\\xbb\\xb4\\xdd8\\xbc\\xac\\xc4\\x04;\\x7f_\\x96\\xbc\\xa4\\x1f\\xd7;\\xc4\\xfb2<\\x1d\\xc8\\x95\\xbc>\\x17\\x98\\xbc[\\xf9\\x0b\\xbd\\xdbI>\\xbc\\xa5=\\x87\\xbc]t\\x18=z\\xe3\\xde<\\xdb\\xe9\\x07<i\\x9f\\x97\\xbc\\x9a\\x7f\\x04=\\xf7\\xb9\\xbb<\\x8ee\\xd2\\xbb\\xbd\\x84\\xd7\\xba\\xed\\x7f\\xd6\\xbc\\xddC\\xdd<!\\x9fm<\\x81\\x8aH\\xbc\\xc6\\xe6\\x97\\xbc\\x86R\"\\xbbW5D<a{\\x8a;s\\x0eA\\xbc\\x94\\x94\\x96\\xbcfj]\\xbc\\xd4b~\\xb96 \\x1d\\xbc\\xd7\\xf5\\x1a\\xbc\\x89z\\x18;\\x17\\xe2&;|\\xbd\\x14<\\xb9\\x18\\x0c=\\xc1(\\xdf<n\\xdc\\xe0\\xbc[\\xfao\\xbcGN\\x9f<Z\\xb8\\x89<\\xe9|\\x1c\\xbb\\x18\\xdde\\xbc\\xfd\\x9b\\x8c\\xbb\\xdb|\\xd4\\xbc&m0\\xbc\\x9d\\x07\\x00=\\xdc\\xbf_\\xbc\\x83\\xe9\\x17\\xbd\\xb5\\xbe\\x8a<m\\xc1e\\xbc\\xb1\\xaf\\xea\\xbc\\xf6N\\x9c\\xbcZ\\xbb4\\xba?\\x91\\xdf\\xbc.X/;\\x87\\x97\\n\\xbb\\xc0\\\\\\xec<\\x08\\xc6b;\\xbf\\xbb\\xf6\\xbb\\xe3\\xd6\\xaa<;v\\xd0\\xbc\\xdb\\x1d\\x95<\\\\Q\\x8a\\xbc\\xd8j\\xd4\\xbc\\xb6\\xab\\xb4;\\xc4\\x06D\\xbd1x\\x99\\xbc\\x88\\x80\\xba\\xbc\\xd2_[\\xbb\\x04\\xff|\\xbb\\xf8\\xb7Y9\\x1836=\\xd3\\xab3\\xbd\\x96\\x9c\\xc6\\xbb\\xda\\xa8\\x8a\\xbb\\xdf8\\xe8\\xbc%\\x9d\\xa5\\xbc\\x84\\xd5l\\xbb\\x12\\xa9/<\\xdb\\xc2\\x808\\xebk\\x94\\xba\\xe6\\xa5-\\xbcx\\xb9\\x8b<\\\\\\xebR<\\xcc\\xde\\xd0:\\x8f\\x14\\x8c<\\x03s\\xc9\\xbba\\xd1\\xac\\xbc{\\xb56\\xbc\\xf1\\xc9\\xeb\\xbbfc\\x03<\\xb4\\n\\xb7\\xbb\\xc1\\xdf\\x9c\\xbc\\x8a\\xee\\x9c\\xbcO\\xea%\\xbd\\xff\\xa9\\x0c<\\x80\\x93\\xc0<\\xe4\\x9b\\xbf\\xbc\\x1c\\x0fJ\\xba\\x8cK,:&\\xc2q\\xbb\\x18\\xaaJ\\xbc\\x17\\\\R:n(\\x82<\\xf6\\xc9\\x1d<@>0<\\x9c6\\xbd<\\xed\\'\\x02\\xbde\\x19\\x8c<\\x16\\xea\\r\\xbd\\xd1T\\x04<qz\\x1e=v\\x12\\r8\\x8f8\\x18\\xbd3\\\\L\\xbb\\xe9Hu\\xbc\\x06j\\x15<\\x84\\xc3\\xcc\\xbb\\xbd\\x07\\x8f\\xbc\\x8do\\x0e<\\xa4\\x94s\\xbc\\xfa\\x01\\xaa\\xbbM\\xe6\\x89<\\x98;+<\\xbaR\\xbb\\xbb\\xd2Gp<\\xc9\\xee@\\xbc\\xa6\\x8d\\x7f\\xba\\xca\\xd65;\\xdf\\xe1\\xb7;\\x81\\xd9\\x96\\xbb\\x8eSp;h\\xfe\\xbc\\xbc\\xe5\\xdf#=\\xd6\\xdb\\x01<x\\x90\\x8a;fB,<\\x9f(P<\\xbf\\xab\\x04\\xbd[_\\xe9;\\xfa\\'\\x12<Aj\\xd1\\xbb<\\xb9,=X\\x83\\xa4;\\xa3W\\xb0\\xbcOL\\x91\\xbb\\xae\\xc1\\xc5<\\xc3\\x98\\x95;\\xaa\\xa2\\x17<O|\\x80<Z\\xb9\\xa6\\xbc\\xffb\\x1f<3\\x83\\xb8;\\xe1O\\xf2\\xbb\\xd7\\xe2\\xe6\\xbc\\x80\\x8f$<4\\x1f_\\xbc\\xbci\\x04\\xbc\\t\\xb7\\xbc:2X\\xd7<6\\x92\\xc1<\\\\\\xb0\\x887\\x80\\x95X\\xb9\\xbd\\xad\\xef\\xbc\\xb2&n\\xbcQi\\r<\\x84l\\xec<\\xbc\\x91\\xd8<\\xe9\\xfd;<\\xc38a<\\x16\\xc1\\x97\\xbcK\\xe1\\x0e\\xbdv\\xfc9\\xbdh\\x88\\x8a\\xbc\\xc6\\xf7\\x9f<IMF\\xbcs6\\xec<n\\xe5\\xa9;Fn\\x91<,d/<\\x1fcL\\xbb\\xdcW[\\xbc\\xf8\\xf3};\\xf34\\xc3;!\\xfb\\x1a<\\xa1$7\\xbc(\\x1f\\x9c<}\\xe3\\x8c\\xbc\\xba\\x12\\xb2<\\xe8$\\xfd\\xbb\\xdd\\x07\\x8d\\xbc\\xfd]b\\xbc\\xe3\\x89\\xf5\\xbc<O\\xd8\\xbc\\xf4H\\x869q\\x17tq\\x18bX\\x03\\x00\\x00\\x00extq\\x19X\\x03\\x00\\x00\\x00txtq\\x1aus.'\n",
      "{'w2v': {'path': '1nuPQE15_5inIe6exuqaZ_Qd7DjBEJRBsIXOYKjURSRY..txt', 'model': 'w2v', 'error': False, 'error_reason': '', 'rep': array([ 8.16337019e-03,  1.18721379e-02, -2.91483966e-03,  3.33050974e-02,\n",
      "       -3.02182678e-02, -3.70203308e-03,  1.34707866e-02, -2.28670985e-02,\n",
      "        2.21907925e-02,  2.13359017e-02, -2.35513300e-02, -2.10998133e-02,\n",
      "       -1.26332976e-02,  1.74478907e-02, -3.85493152e-02,  1.96383409e-02,\n",
      "        1.42012155e-02,  3.88931744e-02, -9.85945575e-03, -4.04793583e-02,\n",
      "       -2.50988957e-02,  4.53543849e-03, -1.37142930e-02,  1.04202293e-02,\n",
      "       -5.28719462e-03, -1.93361044e-02, -3.00402362e-02,  3.04872319e-02,\n",
      "        1.79031007e-02, -7.39251450e-03, -2.86151655e-02, -9.57608130e-03,\n",
      "       -9.51702893e-03, -2.51553282e-02, -1.72026344e-02, -1.00590317e-02,\n",
      "        3.40088131e-03,  1.57899782e-02,  1.60414856e-02,  1.70369558e-02,\n",
      "        3.11411303e-02, -2.32593738e-03,  4.28522676e-02,  1.24104740e-02,\n",
      "       -3.79798259e-03, -2.93373540e-02, -1.09683648e-02, -1.02025019e-02,\n",
      "       -7.06908247e-03,  5.79364458e-03, -1.67998131e-02,  5.10110345e-04,\n",
      "        6.24595967e-04, -1.06665902e-02, -5.10942005e-03,  7.54813245e-03,\n",
      "       -1.27729559e-02, -3.17726061e-02,  1.64441671e-02, -1.71328783e-02,\n",
      "       -4.85242065e-03,  1.24353915e-03, -4.15561646e-02, -1.94271952e-02,\n",
      "       -8.47754162e-03, -2.09217388e-02, -1.78006385e-02,  2.19157506e-02,\n",
      "        4.59081912e-03,  2.34727971e-02,  1.08177243e-02, -7.30236107e-03,\n",
      "        3.77862044e-02, -1.79627798e-02, -3.56584415e-02, -1.71488747e-02,\n",
      "        4.09497134e-02,  4.97250585e-03,  1.42130638e-02,  1.36247277e-02,\n",
      "        3.18207941e-03, -1.50007261e-02,  1.14647672e-02, -7.61917513e-03,\n",
      "        3.88097987e-02,  3.90202855e-03, -2.88357586e-02,  3.34820934e-02,\n",
      "        6.08802726e-03,  2.05596182e-02,  1.26246102e-02, -2.76938290e-03,\n",
      "       -3.25383916e-02, -2.22131629e-02,  1.34163275e-02, -9.48118418e-03,\n",
      "        5.46849845e-03,  7.43380608e-03,  1.62435547e-02,  1.08102178e-02,\n",
      "        5.43214940e-03, -2.20985916e-02, -4.27963590e-04, -5.13647776e-03,\n",
      "       -1.12833269e-02,  2.02588271e-03, -1.83560830e-02,  6.56505115e-03,\n",
      "        1.09242834e-02, -1.82838980e-02, -1.85657702e-02, -3.41733508e-02,\n",
      "       -1.16142882e-02, -1.65088866e-02,  3.72203477e-02,  2.72080787e-02,\n",
      "        8.29550158e-03, -1.85086299e-02,  3.23482528e-02,  2.29158234e-02,\n",
      "       -6.42079767e-03, -1.64427573e-03, -2.61840466e-02,  2.70098988e-02,\n",
      "        1.45032713e-02, -1.22400532e-02, -1.85426585e-02, -2.47684261e-03,\n",
      "        1.19756078e-02,  4.22613369e-03, -1.17832301e-02, -1.83813944e-02,\n",
      "       -1.35141369e-02, -2.42601440e-04, -9.59019922e-03, -9.45802685e-03,\n",
      "        2.32663960e-03,  2.54643499e-03,  9.07837972e-03,  3.42032649e-02,\n",
      "        2.72411127e-02, -2.74488591e-02, -1.46470917e-02,  1.94465052e-02,\n",
      "        1.68115385e-02, -2.38781632e-03, -1.40297636e-02, -4.29105619e-03,\n",
      "       -2.59384420e-02, -1.07682105e-02,  3.12572606e-02, -1.36565827e-02,\n",
      "       -3.70879285e-02,  1.69366393e-02, -1.40231671e-02, -2.86482293e-02,\n",
      "       -1.90806203e-02, -6.89437264e-04, -2.72909384e-02,  2.67554400e-03,\n",
      "       -2.11474462e-03,  2.88528204e-02,  3.46028991e-03, -7.52970530e-03,\n",
      "        2.08544191e-02, -2.54470017e-02,  1.82027128e-02, -1.68844983e-02,\n",
      "       -2.59298533e-02,  5.51363360e-03, -4.78580147e-02, -1.87340695e-02,\n",
      "       -2.27663666e-02, -3.34738614e-03, -3.86041496e-03,  2.07632664e-04,\n",
      "        4.44823205e-02, -4.38650362e-02, -6.06114697e-03, -4.23155446e-03,\n",
      "       -2.83474308e-02, -2.02165339e-02, -3.61380074e-03,  1.07214618e-02,\n",
      "        6.13981028e-05, -1.13236660e-03, -1.05986353e-02,  1.70562118e-02,\n",
      "        1.28734969e-02,  1.59355393e-03,  1.70996469e-02, -6.14774367e-03,\n",
      "       -2.10959334e-02, -1.11516668e-02, -7.19570415e-03,  8.01930390e-03,\n",
      "       -5.58599271e-03, -1.91496629e-02, -1.91567130e-02, -4.05066572e-02,\n",
      "        8.58545210e-03,  2.35078335e-02, -2.33897641e-02, -7.70793995e-04,\n",
      "        6.57253666e-04, -3.68894031e-03, -1.23696551e-02,  8.02458671e-04,\n",
      "        1.58884190e-02,  9.63067077e-03,  1.07570291e-02,  2.30973288e-02,\n",
      "       -3.17763574e-02,  1.71019528e-02, -3.46470699e-02,  8.07686243e-03,\n",
      "        3.86909880e-02,  3.36342127e-05, -3.71633135e-02, -3.11828847e-03,\n",
      "       -1.49709964e-02,  9.11951624e-03, -6.24889322e-03, -1.74597446e-02,\n",
      "        8.69358797e-03, -1.48669817e-02, -5.18822391e-03,  1.68334488e-02,\n",
      "        1.04512200e-02, -5.71664888e-03,  1.46655608e-02, -1.17756808e-02,\n",
      "       -9.74858529e-04,  2.77464325e-03,  5.61164273e-03, -4.60356520e-03,\n",
      "        3.66708962e-03, -2.30705291e-02,  4.00084443e-02,  7.92594813e-03,\n",
      "        4.22864780e-03,  1.05138775e-02,  1.27049973e-02, -3.23903523e-02,\n",
      "        7.12196296e-03,  8.92066397e-03, -6.39084028e-03,  4.21688408e-02,\n",
      "        5.02054021e-03, -2.15261634e-02, -4.43414552e-03,  2.41402052e-02,\n",
      "        4.56532976e-03,  9.25509073e-03,  1.56842750e-02, -2.03520544e-02,\n",
      "        9.72819235e-03,  5.63087454e-03, -7.39477621e-03, -2.81843375e-02,\n",
      "        1.00439787e-02, -1.36182792e-02, -8.08184966e-03,  1.43978104e-03,\n",
      "        2.62871720e-02,  2.36292891e-02,  1.62945871e-05, -2.06550583e-04,\n",
      "       -2.92576496e-02, -1.45355929e-02,  8.63106642e-03,  2.88603380e-02,\n",
      "        2.64366791e-02,  1.14741111e-02,  1.37464432e-02, -1.85246877e-02,\n",
      "       -3.48828249e-02, -4.54067811e-02, -1.69107467e-02,  1.95273273e-02,\n",
      "       -1.21033872e-02,  2.88345572e-02,  5.18482085e-03,  1.77527778e-02,\n",
      "        1.07050352e-02, -3.11870105e-03, -1.33876465e-02,  3.87501530e-03,\n",
      "        5.95723977e-03,  9.45928786e-03, -1.11781666e-02,  1.90578252e-02,\n",
      "       -1.71983186e-02,  2.17374451e-02, -7.72534683e-03, -1.72156636e-02,\n",
      "       -1.38163539e-02, -2.99729761e-02, -2.64049694e-02,  2.56128260e-04],\n",
      "      dtype=float32), 'ext': 'txt'}}\n"
     ]
    }
   ],
   "source": [
    "file_of_choice = \"1nuPQE15_5inIe6exuqaZ_Qd7DjBEJRBsIXOYKjURSRY\"  # this is Will-Tyler Xtract document\n",
    "\n",
    "r = requests.post(url=r_url,\n",
    "                  data=pickle.dumps({'auth_creds': auth_creds, \n",
    "                                     'repo_type': 'GDRIVE', \n",
    "                                     'is_gdoc': True,\n",
    "                                     'extension': None,\n",
    "                                     'file_id': file_of_choice}) )\n",
    "\n",
    "print(r.content)\n",
    "print(pickle.loads(r.content))"
   ]
  },
  {
   "cell_type": "code",
   "execution_count": null,
   "metadata": {},
   "outputs": [],
   "source": []
  }
 ],
 "metadata": {
  "kernelspec": {
   "display_name": "Python (plz)",
   "language": "python",
   "name": "plz"
  },
  "language_info": {
   "codemirror_mode": {
    "name": "ipython",
    "version": 3
   },
   "file_extension": ".py",
   "mimetype": "text/x-python",
   "name": "python",
   "nbconvert_exporter": "python",
   "pygments_lexer": "ipython3",
   "version": "3.6.10"
  }
 },
 "nbformat": 4,
 "nbformat_minor": 4
}
