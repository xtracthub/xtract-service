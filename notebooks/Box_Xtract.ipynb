{
 "cells": [
  {
   "cell_type": "code",
   "execution_count": 4,
   "metadata": {},
   "outputs": [],
   "source": [
    "import boxsdk\n",
    "import requests\n",
    "\n",
    "base_url = \"http://127.0.0.1:5000/\"\n",
    "auth_url = f\"{base_url}{'auth_box'}\""
   ]
  },
  {
   "cell_type": "code",
   "execution_count": 10,
   "metadata": {},
   "outputs": [
    {
     "name": "stdout",
     "output_type": "stream",
     "text": [
      "b'Please login at the following URL: https://account.box.com/api/oauth2/authorize?state=box_csrf_token_ln7SsxiY1lljOg5L&response_type=code&client_id=lv69zdxdy0xun7rujqfq2xqs7dxe9oi6&redirect_uri=http%3A%2F%2F127.0.0.1%3A5000%2Fget_token'\n",
      "Please login at the following auth_link: b'Please login at the following URL: https://account.box.com/api/oauth2/authorize?state=box_csrf_token_ln7SsxiY1lljOg5L&response_type=code&client_id=lv69zdxdy0xun7rujqfq2xqs7dxe9oi6&redirect_uri=http%3A%2F%2F127.0.0.1%3A5000%2Fget_token'\n"
     ]
    }
   ],
   "source": [
    "# TODO: This should return the auth_url\n",
    "auth_req = requests.post(url=auth_url)\n",
    "print(auth_req.content)\n",
    "auth_link = auth_req.content\n",
    "print(f\"Please login at the following auth_link: {auth_link}\")"
   ]
  },
  {
   "cell_type": "code",
   "execution_count": null,
   "metadata": {},
   "outputs": [],
   "source": []
  }
 ],
 "metadata": {
  "kernelspec": {
   "display_name": "Python (box_covid)",
   "language": "python",
   "name": "box_covid"
  },
  "language_info": {
   "codemirror_mode": {
    "name": "ipython",
    "version": 3
   },
   "file_extension": ".py",
   "mimetype": "text/x-python",
   "name": "python",
   "nbconvert_exporter": "python",
   "pygments_lexer": "ipython3",
   "version": "3.6.10"
  }
 },
 "nbformat": 4,
 "nbformat_minor": 4
}
