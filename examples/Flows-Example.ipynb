{
 "cells": [
  {
   "cell_type": "markdown",
   "metadata": {},
   "source": [
    "# Globus Automate Introduction\n",
    "## Tyler-edited version for Xtract. \n",
    "\n",
    "This notebook goes over using Automate to create a simple flow and monitor its status.\n",
    "\n",
    "To use the notebook you will need to both install the SDK:\n",
    "\n",
    "- pip install globus-automate-client\n",
    "\n",
    "And be added to the Automate whitelist group to be allowed to create and run flows. Please email rchard@anl.gov to get access to this."
   ]
  },
  {
   "cell_type": "code",
   "execution_count": 1,
   "metadata": {},
   "outputs": [],
   "source": [
    "import sys\n",
    "import os\n",
    "import time\n",
    "import json\n",
    "sys.path.append(\".\")\n",
    "os.environ['JUPYTER_PATH'] = '.'\n",
    "CLIENT_ID = \"e6c75d97-532a-4c88-b031-8584a319fa3e\"\n",
    "\n",
    "from globus_automate_client import  (get_access_token_for_scope, create_action_client, \n",
    "                                    create_flows_client)"
   ]
  },
  {
   "cell_type": "markdown",
   "metadata": {},
   "source": [
    "# Globus Automate: Flows and Actions\n",
    "\n",
    "## Flow Definition\n",
    "\n",
    "* Flows are composed of *Action* invocations\n",
    "* Each Action invocation reads from and contributes back to the *Flow State* which is referenced in Flow steps using the `InputPath` and `ResultPath` properties of an Action."
   ]
  },
  {
   "cell_type": "code",
   "execution_count": 2,
   "metadata": {},
   "outputs": [],
   "source": [
    "flow_definition = {\n",
    "  \"Comment\": \"Xtract: Crawl and Extract\",\n",
    "  \"StartAt\": \"Transfer1\",\n",
    "  \"States\": {\n",
    "    \"Transfer1\": {\n",
    "      \"Comment\": \"Crawl and Extraction of Data stored at user-defined Globus directory path\",\n",
    "      \"Type\": \"Action\",\n",
    "        \"ActionUrl\": \"https://xtract.materialsdatafacility.org\",\n",
    "        \"ActionScope\": \"https://auth.globus.org/scopes/34284fb1-2eea-4532-a04a-9c8ad1702856/xtract_crawl_and_extract\",\n",
    "      \"InputPath\": \"$.Xtract1Input\",\n",
    "      \"ResultPath\": \"$.Xtract1Result\",\n",
    "      \"WaitTime\": 3600,\n",
    "      \"End\": True\n",
    "    }\n",
    "  }\n",
    "}"
   ]
  },
  {
   "cell_type": "markdown",
   "metadata": {},
   "source": [
    "* This flow composes two transfers into a single logical operation\n",
    "  * Suitable, for example, for doing a two stage transfer between a local campus endpoint, a DMZ data transfer endpoint, and a dataset repository.\n",
    "  * Each step in the Flow uses the same Action: Transfer which is referenced by URL\n",
    "  * Globus Auth Scope information is required to authenticate operations to the Action.\n",
    "  * Source and destination information for the Transfer state are given in `InputPath` and `ResultPath`\n",
    "    * Format of the input is Action dependent (see below)\n"
   ]
  },
  {
   "cell_type": "code",
   "execution_count": 3,
   "metadata": {},
   "outputs": [
    {
     "name": "stdout",
     "output_type": "stream",
     "text": [
      "GlobusHTTPResponse({'action_url': 'http://flows.automate.globus.org/flows/32b22d4f-1241-4fb3-bc1a-9edc329f9e11', 'administered_by': [], 'api_version': '1.0', 'definition': {'Comment': 'Xtract: Crawl and Extract', 'StartAt': 'Transfer1', 'States': {'Transfer1': {'ActionScope': 'https://auth.globus.org/scopes/34284fb1-2eea-4532-a04a-9c8ad1702856/xtract_crawl_and_extract', 'ActionUrl': 'https://xtract.materialsdatafacility.org', 'Comment': 'Crawl and Extraction of Data stored at user-defined Globus directory path', 'End': True, 'InputPath': '$.Xtract1Input', 'ResultPath': '$.Xtract1Result', 'Type': 'Action', 'WaitTime': 3600}}}, 'description': '', 'globus_auth_scope': 'https://auth.globus.org/scopes/32b22d4f-1241-4fb3-bc1a-9edc329f9e11/flow_32b22d4f_1241_4fb3_bc1a_9edc329f9e11', 'globus_auth_username': '32b22d4f-1241-4fb3-bc1a-9edc329f9e11@clients.auth.globus.org', 'id': '32b22d4f-1241-4fb3-bc1a-9edc329f9e11', 'keywords': [], 'log_supported': True, 'principal_urn': 'urn:globus:auth:identity:32b22d4f-1241-4fb3-bc1a-9edc329f9e11', 'runnable_by': [], 'subtitle': '', 'synchronous': False, 'title': 'test-two-hop', 'types': ['Action'], 'visible_to': []})\n",
      "Newly created flow with id:\n",
      "32b22d4f-1241-4fb3-bc1a-9edc329f9e11\n",
      "and scope:\n",
      "https://auth.globus.org/scopes/32b22d4f-1241-4fb3-bc1a-9edc329f9e11/flow_32b22d4f_1241_4fb3_bc1a_9edc329f9e11\n"
     ]
    }
   ],
   "source": [
    "flows_client = create_flows_client(CLIENT_ID)\n",
    "flow = flows_client.deploy_flow(flow_definition, title='test-two-hop')\n",
    "flow_id = flow['id']\n",
    "print(flow)\n",
    "flow_scope = flow['globus_auth_scope']\n",
    "print(f'Newly created flow with id:\\n{flow_id}\\nand scope:\\n{flow_scope}')"
   ]
  },
  {
   "cell_type": "code",
   "execution_count": 12,
   "metadata": {
    "scrolled": true
   },
   "outputs": [
    {
     "name": "stdout",
     "output_type": "stream",
     "text": [
      "GlobusHTTPResponse({'action_id': 'bdc9d715-5bc9-4a63-98ed-55b67c4a0c79', 'completion_time': 'None', 'created_by': 'urn:globus:auth:identity:f12d8fb3-5502-4895-ac33-e59581f9f03f', 'details': {'code': 'ActionStarted', 'description': 'State Transfer1 of type Action started', 'details': {'input': {'Xtract1Input': {'destination_endpoint_id': 'go#ep2', 'dir_path': '/MDF/mdf_connect/prod/data', 'eid': 'e38ee745-6d04-11e5-ba46-22000b92c6ec', 'grouper': 'matio', 'source_endpoint_id': 'go#ep1', 'transfer_items': [{'destination_path': '/~/globus_publish_2.txt', 'recursive': False, 'source_path': '/~/core'}]}}, 'state_name': 'Transfer1', 'state_type': 'Action'}, 'time': '2020-06-18T15:54:45.333000+00:00'}, 'start_time': '2020-06-18T15:54:45.306000+00:00', 'status': 'ACTIVE'})\n",
      "Flow action started with id: bdc9d715-5bc9-4a63-98ed-55b67c4a0c79\n",
      "Flow status: ACTIVE\n",
      "Flow status: SUCCEEDED\n",
      "GlobusHTTPResponse({'action_id': 'bdc9d715-5bc9-4a63-98ed-55b67c4a0c79', 'completion_time': '2020-06-18T15:54:49.147000+00:00', 'created_by': 'urn:globus:auth:identity:f12d8fb3-5502-4895-ac33-e59581f9f03f', 'details': {'output': {'Xtract1Input': {'destination_endpoint_id': 'go#ep2', 'dir_path': '/MDF/mdf_connect/prod/data', 'eid': 'e38ee745-6d04-11e5-ba46-22000b92c6ec', 'grouper': 'matio', 'source_endpoint_id': 'go#ep1', 'transfer_items': [{'destination_path': '/~/globus_publish_2.txt', 'recursive': False, 'source_path': '/~/core'}]}, 'Xtract1Result': {'action_id': '4f1d4cca-e1ea-48d6-8772-ed11f3f5ee9d', 'completion_time': 'tomato', 'details': 'the weasel runs at midnight', 'display_status': 'ACTIVE', 'manage_by': [], 'monitor_by': [], 'release_after': 'P30D', 'start_time': 'Thu, 18 Jun 2020 15:54:45 GMT', 'status': 'SUCCEEDED'}}}, 'start_time': '2020-06-18T15:54:45.306000+00:00', 'status': 'SUCCEEDED'})\n"
     ]
    }
   ],
   "source": [
    "flow_input = {\n",
    "  \"Xtract1Input\": {\n",
    "    \"source_endpoint_id\": \"go#ep1\",\n",
    "    \"destination_endpoint_id\": \"go#ep2\",\n",
    "    \"eid\": \"e38ee745-6d04-11e5-ba46-22000b92c6ec\",\n",
    "    \"dir_path\": \"/MDF/mdf_connect/prod/data\",\n",
    "    \"grouper\": \"matio\",\n",
    "    \"transfer_items\": [\n",
    "      {\n",
    "        \"source_path\": \"/~/core\",\n",
    "        \"destination_path\": \"/~/globus_publish_2.txt\",\n",
    "        \"recursive\": False\n",
    "      }\n",
    "    ]\n",
    "  }\n",
    "}\n",
    "\n",
    "flow_action = flows_client.run_flow(flow_id, flow_scope, flow_input)\n",
    "print(flow_action)\n",
    "\n",
    "flow_action_id = flow_action['action_id']\n",
    "flow_status = flow_action['status']\n",
    "print(f'Flow action started with id: {flow_action_id}')\n",
    "while flow_status == 'ACTIVE':\n",
    "    time.sleep(2)\n",
    "    flow_action = flows_client.flow_action_status(flow_id, flow_scope, flow_action_id)\n",
    "    flow_status = flow_action['status']\n",
    "    print(f'Flow status: {flow_status}')\n",
    "print (flow_action)\n"
   ]
  },
  {
   "cell_type": "code",
   "execution_count": null,
   "metadata": {},
   "outputs": [],
   "source": []
  },
  {
   "cell_type": "code",
   "execution_count": null,
   "metadata": {},
   "outputs": [],
   "source": []
  }
 ],
 "metadata": {
  "celltoolbar": "Attachments",
  "kernelspec": {
   "display_name": "Python (plz)",
   "language": "python",
   "name": "plz"
  },
  "language_info": {
   "codemirror_mode": {
    "name": "ipython",
    "version": 3
   },
   "file_extension": ".py",
   "mimetype": "text/x-python",
   "name": "python",
   "nbconvert_exporter": "python",
   "pygments_lexer": "ipython3",
   "version": "3.6.10"
  }
 },
 "nbformat": 4,
 "nbformat_minor": 2
}
