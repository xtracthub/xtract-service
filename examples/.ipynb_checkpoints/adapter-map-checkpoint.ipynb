{
 "cells": [
  {
   "cell_type": "code",
   "execution_count": 1,
   "metadata": {},
   "outputs": [],
   "source": [
    "import materials_io\n",
    "\n",
    "matio_data = \"/Users/tylerskluzacek/Desktop/matio-data\""
   ]
  },
  {
   "cell_type": "code",
   "execution_count": null,
   "metadata": {},
   "outputs": [],
   "source": [
    "from materials_io.utils.interface import run_all_parsers_on_directory\n",
    "gen = run_all_parsers_on_directory(matio_data, adapter_map='match')\n",
    "for record in gen:\n",
    "    print(record)"
   ]
  },
  {
   "cell_type": "code",
   "execution_count": null,
   "metadata": {},
   "outputs": [],
   "source": [
    "from materials_io.utils.interface import execute_parser\n",
    "gen = execute_parser(name='dft', group=[f\"{matio_data}/POSCAR\", f\"{matio_data}/INCAR\", f\"{matio_data}/OUTCAR\"])"
   ]
  },
  {
   "cell_type": "code",
   "execution_count": null,
   "metadata": {},
   "outputs": [],
   "source": [
    "print(gen)"
   ]
  },
  {
   "cell_type": "code",
   "execution_count": 2,
   "metadata": {},
   "outputs": [],
   "source": [
    "from materials_io.utils.interface import run_all_parsers_on_group"
   ]
  },
  {
   "cell_type": "code",
   "execution_count": 5,
   "metadata": {},
   "outputs": [],
   "source": [
    "mdata = run_all_parsers_on_group(adapter_map='match', group=[f\"{matio_data}/POSCAR\", f\"{matio_data}/INCAR\", f\"{matio_data}/OUTCAR\"], include_parsers=['dft'])"
   ]
  },
  {
   "cell_type": "code",
   "execution_count": 6,
   "metadata": {},
   "outputs": [
    {
     "name": "stderr",
     "output_type": "stream",
     "text": [
      "WARNING:hyperspy_gui_traitsui:The module://ipykernel.pylab.backend_inline matplotlib backend is not compatible with the traitsui GUI elements. For more information, read http://hyperspy.readthedocs.io/en/stable/user_guide/getting_started.html#possible-warnings-when-importing-hyperspy.\n",
      "WARNING:hyperspy_gui_traitsui:The traitsui GUI elements are not available.\n"
     ]
    },
    {
     "name": "stdout",
     "output_type": "stream",
     "text": [
      "ParseResult(group=['/Users/tylerskluzacek/Desktop/matio-data/POSCAR', '/Users/tylerskluzacek/Desktop/matio-data/INCAR', '/Users/tylerskluzacek/Desktop/matio-data/OUTCAR'], parser='dft', metadata={'properties': [{'name': 'Converged', 'scalars': [{'value': True}], 'conditions': [{'name': 'XC Functional', 'scalars': [{'value': 'PAW_PBE'}]}, {'name': 'Relaxed'}, {'name': 'Cutoff Energy', 'scalars': [{'value': 249.8}], 'units': 'eV'}, {'name': 'k-Points per Reciprocal Atom', 'scalars': [{'value': 5120.0}]}, {'name': 'Pseudopotentials', 'vectors': [[{'value': 'Ag'}, {'value': 'Al'}]]}], 'methods': [{'name': 'Density Functional Theory', 'software': [{'name': 'VASP', 'version': '5.3.5'}]}], 'dataType': 'COMPUTATIONAL'}, {'name': 'Total Energy', 'scalars': [{'value': -6.55684661}], 'units': 'eV', 'conditions': [{'name': 'XC Functional', 'scalars': [{'value': 'PAW_PBE'}]}, {'name': 'Relaxed'}, {'name': 'Cutoff Energy', 'scalars': [{'value': 249.8}], 'units': 'eV'}, {'name': 'k-Points per Reciprocal Atom', 'scalars': [{'value': 5120.0}]}, {'name': 'Pseudopotentials', 'vectors': [[{'value': 'Ag'}, {'value': 'Al'}]]}], 'methods': [{'name': 'Density Functional Theory', 'software': [{'name': 'VASP', 'version': '5.3.5'}]}], 'dataType': 'COMPUTATIONAL'}, {'name': 'Pressure', 'scalars': [{'value': -0.04}], 'units': 'kbar', 'conditions': [{'name': 'XC Functional', 'scalars': [{'value': 'PAW_PBE'}]}, {'name': 'Relaxed'}, {'name': 'Cutoff Energy', 'scalars': [{'value': 249.8}], 'units': 'eV'}, {'name': 'k-Points per Reciprocal Atom', 'scalars': [{'value': 5120.0}]}, {'name': 'Pseudopotentials', 'vectors': [[{'value': 'Ag'}, {'value': 'Al'}]]}], 'methods': [{'name': 'Density Functional Theory', 'software': [{'name': 'VASP', 'version': '5.3.5'}]}], 'dataType': 'COMPUTATIONAL'}, {'name': 'Positions', 'vectors': [[{'value': -0.00068}, {'value': 1.70115}, {'value': 1.1047}], [{'value': 1.47341}, {'value': 0.85004}, {'value': 3.31411}]], 'conditions': [{'name': 'XC Functional', 'scalars': [{'value': 'PAW_PBE'}]}, {'name': 'Relaxed'}, {'name': 'Cutoff Energy', 'scalars': [{'value': 249.8}], 'units': 'eV'}, {'name': 'k-Points per Reciprocal Atom', 'scalars': [{'value': 5120.0}]}, {'name': 'Pseudopotentials', 'vectors': [[{'value': 'Ag'}, {'value': 'Al'}]]}], 'methods': [{'name': 'Density Functional Theory', 'software': [{'name': 'VASP', 'version': '5.3.5'}]}], 'dataType': 'COMPUTATIONAL'}, {'name': 'Forces', 'vectors': [[{'value': 0.000147}, {'value': -0.000134}, {'value': 0.0}], [{'value': -0.000147}, {'value': 0.000134}, {'value': 0.0}]], 'conditions': [{'name': 'positions', 'vectors': [[{'value': -0.00068}, {'value': 1.70115}, {'value': 1.1047}], [{'value': 1.47341}, {'value': 0.85004}, {'value': 3.31411}]]}, {'name': 'XC Functional', 'scalars': [{'value': 'PAW_PBE'}]}, {'name': 'Relaxed'}, {'name': 'Cutoff Energy', 'scalars': [{'value': 249.8}], 'units': 'eV'}, {'name': 'k-Points per Reciprocal Atom', 'scalars': [{'value': 5120.0}]}, {'name': 'Pseudopotentials', 'vectors': [[{'value': 'Ag'}, {'value': 'Al'}]]}], 'methods': [{'name': 'Density Functional Theory', 'software': [{'name': 'VASP', 'version': '5.3.5'}]}], 'dataType': 'COMPUTATIONAL'}, {'name': 'Density', 'scalars': [{'value': 6.737119088248515}], 'units': 'g/(cm^3)', 'conditions': [{'name': 'XC Functional', 'scalars': [{'value': 'PAW_PBE'}]}, {'name': 'Relaxed'}, {'name': 'Cutoff Energy', 'scalars': [{'value': 249.8}], 'units': 'eV'}, {'name': 'k-Points per Reciprocal Atom', 'scalars': [{'value': 5120.0}]}, {'name': 'Pseudopotentials', 'vectors': [[{'value': 'Ag'}, {'value': 'Al'}]]}], 'methods': [{'name': 'Density Functional Theory', 'software': [{'name': 'VASP', 'version': '5.3.5'}]}], 'dataType': 'COMPUTATIONAL'}, {'name': 'Stresses', 'matrices': [[[{'value': -0.01736}, {'value': 0.0225}, {'value': 0.0}], [{'value': 0.0225}, {'value': 0.00825}, {'value': 0.0}], [{'value': 0.0}, {'value': 0.0}, {'value': -0.11394}]]], 'units': 'kbar', 'conditions': [{'name': 'XC Functional', 'scalars': [{'value': 'PAW_PBE'}]}, {'name': 'Relaxed'}, {'name': 'Cutoff Energy', 'scalars': [{'value': 249.8}], 'units': 'eV'}, {'name': 'k-Points per Reciprocal Atom', 'scalars': [{'value': 5120.0}]}, {'name': 'Pseudopotentials', 'vectors': [[{'value': 'Ag'}, {'value': 'Al'}]]}], 'methods': [{'name': 'Density Functional Theory', 'software': [{'name': 'VASP', 'version': '5.3.5'}]}], 'dataType': 'COMPUTATIONAL'}, {'name': 'Number of atoms', 'scalars': [{'value': 2}], 'units': '/unit cell', 'conditions': [{'name': 'XC Functional', 'scalars': [{'value': 'PAW_PBE'}]}, {'name': 'Relaxed'}, {'name': 'Cutoff Energy', 'scalars': [{'value': 249.8}], 'units': 'eV'}, {'name': 'k-Points per Reciprocal Atom', 'scalars': [{'value': 5120.0}]}, {'name': 'Pseudopotentials', 'vectors': [[{'value': 'Ag'}, {'value': 'Al'}]]}], 'methods': [{'name': 'Density Functional Theory', 'software': [{'name': 'VASP', 'version': '5.3.5'}]}], 'dataType': 'COMPUTATIONAL'}, {'name': 'Initial volume', 'scalars': [{'value': 33.19}], 'units': 'Angstrom^3/cell', 'conditions': [{'name': 'XC Functional', 'scalars': [{'value': 'PAW_PBE'}]}, {'name': 'Relaxed'}, {'name': 'Cutoff Energy', 'scalars': [{'value': 249.8}], 'units': 'eV'}, {'name': 'k-Points per Reciprocal Atom', 'scalars': [{'value': 5120.0}]}, {'name': 'Pseudopotentials', 'vectors': [[{'value': 'Ag'}, {'value': 'Al'}]]}], 'methods': [{'name': 'Density Functional Theory', 'software': [{'name': 'VASP', 'version': '5.3.5'}]}], 'dataType': 'COMPUTATIONAL'}, {'name': 'Final volume', 'scalars': [{'value': 33.24}], 'units': 'Angstrom^3/cell', 'conditions': [{'name': 'XC Functional', 'scalars': [{'value': 'PAW_PBE'}]}, {'name': 'Relaxed'}, {'name': 'Cutoff Energy', 'scalars': [{'value': 249.8}], 'units': 'eV'}, {'name': 'k-Points per Reciprocal Atom', 'scalars': [{'value': 5120.0}]}, {'name': 'Pseudopotentials', 'vectors': [[{'value': 'Ag'}, {'value': 'Al'}]]}], 'methods': [{'name': 'Density Functional Theory', 'software': [{'name': 'VASP', 'version': '5.3.5'}]}], 'dataType': 'COMPUTATIONAL'}], 'category': 'system.chemical', 'chemicalFormula': 'AgAl'})\n"
     ]
    }
   ],
   "source": [
    "for item in mdata:\n",
    "    print(item)"
   ]
  },
  {
   "cell_type": "code",
   "execution_count": 8,
   "metadata": {},
   "outputs": [
    {
     "name": "stdout",
     "output_type": "stream",
     "text": [
      "ParseResult(group=['/Users/tylerskluzacek/Desktop/testytest.xyz'], parser='ase', metadata={'cell': {'array': array([[20.,  0.,  0.],\n",
      "       [ 0., 20.,  0.],\n",
      "       [ 0.,  0., 20.]]), 'pbc': array([ True,  True,  True]), '__ase_objtype__': 'cell'}, 'ctime': 20.3125697576239, 'mtime': 20.3125697576239, 'numbers': array([8, 1, 1]), 'pbc': array([ True,  True,  True]), 'positions': array([[ 0.        ,  0.        ,  0.        ],\n",
      "       [ 0.85      ,  0.        ,  0.        ],\n",
      "       [-0.54489762,  0.77819444,  0.        ]]), 'unique_id': '30602b9cbe59a8cad1df7c48fa4c7495', 'user': 'tylerskluzacek', 'chemical_formula': 'H2O'})\n"
     ]
    }
   ],
   "source": [
    "mdata = run_all_parsers_on_group(adapter_map='match', group=[f\"/Users/tylerskluzacek/Desktop/testytest.xyz\"], include_parsers=['ase'])\n",
    "\n",
    "for item in mdata:\n",
    "    print(item)"
   ]
  },
  {
   "cell_type": "code",
   "execution_count": null,
   "metadata": {},
   "outputs": [],
   "source": []
  }
 ],
 "metadata": {
  "kernelspec": {
   "display_name": "Python (adapter_map)",
   "language": "python",
   "name": "adapter_map"
  },
  "language_info": {
   "codemirror_mode": {
    "name": "ipython",
    "version": 3
   },
   "file_extension": ".py",
   "mimetype": "text/x-python",
   "name": "python",
   "nbconvert_exporter": "python",
   "pygments_lexer": "ipython3",
   "version": "3.6.10"
  }
 },
 "nbformat": 4,
 "nbformat_minor": 2
}
